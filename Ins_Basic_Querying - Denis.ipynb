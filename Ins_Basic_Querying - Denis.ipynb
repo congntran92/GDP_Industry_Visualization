{
 "cells": [
  {
   "cell_type": "code",
   "execution_count": 1,
   "metadata": {},
   "outputs": [],
   "source": [
    "from sqlalchemy import create_engine, MetaData\n",
    "from sqlalchemy import Column, Integer, String, Float\n",
    "from sqlalchemy.orm import Session\n",
    "from sqlalchemy.ext.automap import automap_base\n",
    "from flask import Flask,render_template,jsonify"
   ]
  },
  {
   "cell_type": "code",
   "execution_count": 2,
   "metadata": {},
   "outputs": [],
   "source": [
    "from flask import Flask,render_template,jsonify\n",
    "import pandas as pd\n",
    "import sqlite3\n",
    "import os\n",
    "import numpy as np\n",
    "\n",
    "from flask_sqlalchemy import SQLAlchemy\n",
    "import sqlalchemy\n",
    "from sqlalchemy.ext.automap import automap_base\n",
    "from sqlalchemy import create_engine, MetaData\n",
    "import os\n",
    "from sqlalchemy.orm import Session\n",
    "from orderedset import OrderedSet\n",
    "\n",
    "from sqlalchemy import create_engine, MetaData\n",
    "from sqlalchemy import Column, Integer, String, Float\n",
    "from sqlalchemy.orm import Session\n",
    "from sqlalchemy.ext.automap import automap_base\n",
    "from flask import Flask,render_template,jsonify\n"
   ]
  },
  {
   "cell_type": "code",
   "execution_count": 3,
   "metadata": {},
   "outputs": [],
   "source": [
    "Base = automap_base()"
   ]
  },
  {
   "cell_type": "code",
   "execution_count": 4,
   "metadata": {},
   "outputs": [],
   "source": [
    "# Create Database Connection\n",
    "engine = create_engine('sqlite:///db/GDPNew.db')"
   ]
  },
  {
   "cell_type": "code",
   "execution_count": 5,
   "metadata": {},
   "outputs": [],
   "source": [
    "Base.prepare(engine, reflect=True)\n",
    "Gdp = Base.classes.GDP"
   ]
  },
  {
   "cell_type": "code",
   "execution_count": 6,
   "metadata": {},
   "outputs": [],
   "source": [
    "session = Session(engine)"
   ]
  },
  {
   "cell_type": "code",
   "execution_count": 7,
   "metadata": {},
   "outputs": [
    {
     "data": {
      "text/plain": [
       "dict_keys(['GDP'])"
      ]
     },
     "execution_count": 7,
     "metadata": {},
     "output_type": "execute_result"
    }
   ],
   "source": [
    "metadata = MetaData()\n",
    "metadata.reflect(engine)\n",
    "metadata.tables.keys()"
   ]
  },
  {
   "cell_type": "code",
   "execution_count": 8,
   "metadata": {},
   "outputs": [],
   "source": [
    "first_row = session.query(Gdp).filter(Gdp.GeoName == 'Alabama').all()"
   ]
  },
  {
   "cell_type": "code",
   "execution_count": 9,
   "metadata": {},
   "outputs": [],
   "source": [
    "results = session.query(Gdp.GeoName, Gdp.IndustryId, Gdp.Y1997, Gdp.Y1998, Gdp.Y1999, Gdp.Y2000, Gdp.Y2001, Gdp.Y2002, Gdp.Y2003, Gdp.Y2004, Gdp.Y2005, Gdp.Y2006, Gdp.Y2007, Gdp.Y2008, Gdp.Y2009, Gdp.Y2010, Gdp.Y2011, Gdp.Y2012, Gdp.Y2013, Gdp.Y2014, Gdp.Y2015, Gdp.Y2016, Gdp.Y2017).filter(Gdp.IndustryId == 1).all()"
   ]
  },
  {
   "cell_type": "code",
   "execution_count": 10,
   "metadata": {},
   "outputs": [],
   "source": [
    "state = [row[0] for row in results]\n",
    "industry_id = [row[1] for row in results]\n",
    "Y1997 = [row[2] for row in results]\n",
    "Y1998 = [row[3] for row in results]\n",
    "Y1999 = [row[4] for row in results]\n",
    "Y2000 = [row[5] for row in results]\n",
    "Y2001 = [row[6] for row in results]\n",
    "Y2002 = [row[7] for row in results]\n",
    "Y2003 = [row[8] for row in results]\n",
    "Y2004 = [row[9] for row in results]\n",
    "Y2005 = [row[10] for row in results]\n",
    "Y2006 = [row[11] for row in results]\n",
    "Y2007 = [row[12] for row in results]\n",
    "Y2008 = [row[13] for row in results]\n",
    "Y2009 = [row[14] for row in results]\n",
    "Y2010 = [row[15] for row in results]\n",
    "Y2011 = [row[16] for row in results]\n",
    "Y2012 = [row[17] for row in results]\n",
    "Y2013 = [row[18] for row in results]\n",
    "Y2014 = [row[19] for row in results]\n",
    "Y2015 = [row[20] for row in results]\n",
    "Y2016 = [row[21] for row in results]\n",
    "Y2017 = [row[22] for row in results]"
   ]
  },
  {
   "cell_type": "code",
   "execution_count": 11,
   "metadata": {},
   "outputs": [
    {
     "ename": "RuntimeError",
     "evalue": "Working outside of application context.\n\nThis typically means that you attempted to use functionality that needed\nto interface with the current application object in some way. To solve\nthis, set up an application context with app.app_context().  See the\ndocumentation for more information.",
     "output_type": "error",
     "traceback": [
      "\u001b[0;31m---------------------------------------------------------------------------\u001b[0m",
      "\u001b[0;31mRuntimeError\u001b[0m                              Traceback (most recent call last)",
      "\u001b[0;32m<ipython-input-11-2524f518519a>\u001b[0m in \u001b[0;36m<module>\u001b[0;34m\u001b[0m\n\u001b[1;32m      1\u001b[0m jsonify([state, industry_id, Y1997, Y1998, Y1999, Y2000, Y2001, Y2002, Y2003, Y2004, Y2005, Y2006,\n\u001b[0;32m----> 2\u001b[0;31m         Y2007, Y2008, Y2009, Y2010, Y2011, Y2012, Y2013, Y2014, Y2015, Y2016, Y2017])\n\u001b[0m",
      "\u001b[0;32m~/anaconda3/lib/python3.7/site-packages/flask/json/__init__.py\u001b[0m in \u001b[0;36mjsonify\u001b[0;34m(*args, **kwargs)\u001b[0m\n\u001b[1;32m    356\u001b[0m     \u001b[0mseparators\u001b[0m \u001b[0;34m=\u001b[0m \u001b[0;34m(\u001b[0m\u001b[0;34m\",\"\u001b[0m\u001b[0;34m,\u001b[0m \u001b[0;34m\":\"\u001b[0m\u001b[0;34m)\u001b[0m\u001b[0;34m\u001b[0m\u001b[0;34m\u001b[0m\u001b[0m\n\u001b[1;32m    357\u001b[0m \u001b[0;34m\u001b[0m\u001b[0m\n\u001b[0;32m--> 358\u001b[0;31m     \u001b[0;32mif\u001b[0m \u001b[0mcurrent_app\u001b[0m\u001b[0;34m.\u001b[0m\u001b[0mconfig\u001b[0m\u001b[0;34m[\u001b[0m\u001b[0;34m\"JSONIFY_PRETTYPRINT_REGULAR\"\u001b[0m\u001b[0;34m]\u001b[0m \u001b[0;32mor\u001b[0m \u001b[0mcurrent_app\u001b[0m\u001b[0;34m.\u001b[0m\u001b[0mdebug\u001b[0m\u001b[0;34m:\u001b[0m\u001b[0;34m\u001b[0m\u001b[0;34m\u001b[0m\u001b[0m\n\u001b[0m\u001b[1;32m    359\u001b[0m         \u001b[0mindent\u001b[0m \u001b[0;34m=\u001b[0m \u001b[0;36m2\u001b[0m\u001b[0;34m\u001b[0m\u001b[0;34m\u001b[0m\u001b[0m\n\u001b[1;32m    360\u001b[0m         \u001b[0mseparators\u001b[0m \u001b[0;34m=\u001b[0m \u001b[0;34m(\u001b[0m\u001b[0;34m\", \"\u001b[0m\u001b[0;34m,\u001b[0m \u001b[0;34m\": \"\u001b[0m\u001b[0;34m)\u001b[0m\u001b[0;34m\u001b[0m\u001b[0;34m\u001b[0m\u001b[0m\n",
      "\u001b[0;32m~/anaconda3/lib/python3.7/site-packages/werkzeug/local.py\u001b[0m in \u001b[0;36m__getattr__\u001b[0;34m(self, name)\u001b[0m\n\u001b[1;32m    346\u001b[0m         \u001b[0;32mif\u001b[0m \u001b[0mname\u001b[0m \u001b[0;34m==\u001b[0m \u001b[0;34m\"__members__\"\u001b[0m\u001b[0;34m:\u001b[0m\u001b[0;34m\u001b[0m\u001b[0;34m\u001b[0m\u001b[0m\n\u001b[1;32m    347\u001b[0m             \u001b[0;32mreturn\u001b[0m \u001b[0mdir\u001b[0m\u001b[0;34m(\u001b[0m\u001b[0mself\u001b[0m\u001b[0;34m.\u001b[0m\u001b[0m_get_current_object\u001b[0m\u001b[0;34m(\u001b[0m\u001b[0;34m)\u001b[0m\u001b[0;34m)\u001b[0m\u001b[0;34m\u001b[0m\u001b[0;34m\u001b[0m\u001b[0m\n\u001b[0;32m--> 348\u001b[0;31m         \u001b[0;32mreturn\u001b[0m \u001b[0mgetattr\u001b[0m\u001b[0;34m(\u001b[0m\u001b[0mself\u001b[0m\u001b[0;34m.\u001b[0m\u001b[0m_get_current_object\u001b[0m\u001b[0;34m(\u001b[0m\u001b[0;34m)\u001b[0m\u001b[0;34m,\u001b[0m \u001b[0mname\u001b[0m\u001b[0;34m)\u001b[0m\u001b[0;34m\u001b[0m\u001b[0;34m\u001b[0m\u001b[0m\n\u001b[0m\u001b[1;32m    349\u001b[0m \u001b[0;34m\u001b[0m\u001b[0m\n\u001b[1;32m    350\u001b[0m     \u001b[0;32mdef\u001b[0m \u001b[0m__setitem__\u001b[0m\u001b[0;34m(\u001b[0m\u001b[0mself\u001b[0m\u001b[0;34m,\u001b[0m \u001b[0mkey\u001b[0m\u001b[0;34m,\u001b[0m \u001b[0mvalue\u001b[0m\u001b[0;34m)\u001b[0m\u001b[0;34m:\u001b[0m\u001b[0;34m\u001b[0m\u001b[0;34m\u001b[0m\u001b[0m\n",
      "\u001b[0;32m~/anaconda3/lib/python3.7/site-packages/werkzeug/local.py\u001b[0m in \u001b[0;36m_get_current_object\u001b[0;34m(self)\u001b[0m\n\u001b[1;32m    305\u001b[0m         \"\"\"\n\u001b[1;32m    306\u001b[0m         \u001b[0;32mif\u001b[0m \u001b[0;32mnot\u001b[0m \u001b[0mhasattr\u001b[0m\u001b[0;34m(\u001b[0m\u001b[0mself\u001b[0m\u001b[0;34m.\u001b[0m\u001b[0m__local\u001b[0m\u001b[0;34m,\u001b[0m \u001b[0;34m\"__release_local__\"\u001b[0m\u001b[0;34m)\u001b[0m\u001b[0;34m:\u001b[0m\u001b[0;34m\u001b[0m\u001b[0;34m\u001b[0m\u001b[0m\n\u001b[0;32m--> 307\u001b[0;31m             \u001b[0;32mreturn\u001b[0m \u001b[0mself\u001b[0m\u001b[0;34m.\u001b[0m\u001b[0m__local\u001b[0m\u001b[0;34m(\u001b[0m\u001b[0;34m)\u001b[0m\u001b[0;34m\u001b[0m\u001b[0;34m\u001b[0m\u001b[0m\n\u001b[0m\u001b[1;32m    308\u001b[0m         \u001b[0;32mtry\u001b[0m\u001b[0;34m:\u001b[0m\u001b[0;34m\u001b[0m\u001b[0;34m\u001b[0m\u001b[0m\n\u001b[1;32m    309\u001b[0m             \u001b[0;32mreturn\u001b[0m \u001b[0mgetattr\u001b[0m\u001b[0;34m(\u001b[0m\u001b[0mself\u001b[0m\u001b[0;34m.\u001b[0m\u001b[0m__local\u001b[0m\u001b[0;34m,\u001b[0m \u001b[0mself\u001b[0m\u001b[0;34m.\u001b[0m\u001b[0m__name__\u001b[0m\u001b[0;34m)\u001b[0m\u001b[0;34m\u001b[0m\u001b[0;34m\u001b[0m\u001b[0m\n",
      "\u001b[0;32m~/anaconda3/lib/python3.7/site-packages/flask/globals.py\u001b[0m in \u001b[0;36m_find_app\u001b[0;34m()\u001b[0m\n\u001b[1;32m     50\u001b[0m     \u001b[0mtop\u001b[0m \u001b[0;34m=\u001b[0m \u001b[0m_app_ctx_stack\u001b[0m\u001b[0;34m.\u001b[0m\u001b[0mtop\u001b[0m\u001b[0;34m\u001b[0m\u001b[0;34m\u001b[0m\u001b[0m\n\u001b[1;32m     51\u001b[0m     \u001b[0;32mif\u001b[0m \u001b[0mtop\u001b[0m \u001b[0;32mis\u001b[0m \u001b[0;32mNone\u001b[0m\u001b[0;34m:\u001b[0m\u001b[0;34m\u001b[0m\u001b[0;34m\u001b[0m\u001b[0m\n\u001b[0;32m---> 52\u001b[0;31m         \u001b[0;32mraise\u001b[0m \u001b[0mRuntimeError\u001b[0m\u001b[0;34m(\u001b[0m\u001b[0m_app_ctx_err_msg\u001b[0m\u001b[0;34m)\u001b[0m\u001b[0;34m\u001b[0m\u001b[0;34m\u001b[0m\u001b[0m\n\u001b[0m\u001b[1;32m     53\u001b[0m     \u001b[0;32mreturn\u001b[0m \u001b[0mtop\u001b[0m\u001b[0;34m.\u001b[0m\u001b[0mapp\u001b[0m\u001b[0;34m\u001b[0m\u001b[0;34m\u001b[0m\u001b[0m\n\u001b[1;32m     54\u001b[0m \u001b[0;34m\u001b[0m\u001b[0m\n",
      "\u001b[0;31mRuntimeError\u001b[0m: Working outside of application context.\n\nThis typically means that you attempted to use functionality that needed\nto interface with the current application object in some way. To solve\nthis, set up an application context with app.app_context().  See the\ndocumentation for more information."
     ]
    }
   ],
   "source": [
    "jsonify([state, industry_id, Y1997, Y1998, Y1999, Y2000, Y2001, Y2002, Y2003, Y2004, Y2005, Y2006,\n",
    "        Y2007, Y2008, Y2009, Y2010, Y2011, Y2012, Y2013, Y2014, Y2015, Y2016, Y2017])"
   ]
  },
  {
   "cell_type": "code",
   "execution_count": 12,
   "metadata": {},
   "outputs": [],
   "source": [
    "results = session.query(Gdp.GeoName)"
   ]
  },
  {
   "cell_type": "raw",
   "metadata": {},
   "source": [
    "results"
   ]
  },
  {
   "cell_type": "code",
   "execution_count": 13,
   "metadata": {},
   "outputs": [
    {
     "data": {
      "text/plain": [
       "<sqlalchemy.orm.query.Query at 0x121cf6e80>"
      ]
     },
     "execution_count": 13,
     "metadata": {},
     "output_type": "execute_result"
    }
   ],
   "source": [
    "results"
   ]
  },
  {
   "cell_type": "code",
   "execution_count": 14,
   "metadata": {},
   "outputs": [],
   "source": [
    "import sqlite3"
   ]
  },
  {
   "cell_type": "code",
   "execution_count": 15,
   "metadata": {},
   "outputs": [],
   "source": [
    "conn = sqlite3.connect('db/GDPNew.db')"
   ]
  },
  {
   "cell_type": "code",
   "execution_count": 16,
   "metadata": {},
   "outputs": [],
   "source": [
    "conn.row_factory = sqlite3.Row\n",
    "c = conn.cursor()\n",
    "c.execute('select * from GDP')\n",
    "\n",
    "result = c.fetchall()"
   ]
  },
  {
   "cell_type": "code",
   "execution_count": 17,
   "metadata": {},
   "outputs": [],
   "source": [
    "result = [dict(row) for row in c.fetchall()]"
   ]
  },
  {
   "cell_type": "code",
   "execution_count": 18,
   "metadata": {},
   "outputs": [
    {
     "name": "stdout",
     "output_type": "stream",
     "text": [
      "[]\n"
     ]
    }
   ],
   "source": [
    "print(result)"
   ]
  },
  {
   "cell_type": "code",
   "execution_count": 19,
   "metadata": {},
   "outputs": [],
   "source": [
    "import json\n",
    "# get this object\n",
    "from flask import Response"
   ]
  },
  {
   "cell_type": "code",
   "execution_count": 20,
   "metadata": {},
   "outputs": [
    {
     "name": "stdout",
     "output_type": "stream",
     "text": [
      "SELECT \"GDP\".\"GeoName\" AS \"GDP_GeoName\" \n",
      "FROM \"GDP\"\n"
     ]
    }
   ],
   "source": [
    "import sqlite3\n",
    " \n",
    "def dict_factory(cursor, row):\n",
    "    d = {}\n",
    "    for idx, col in enumerate(cursor.description):\n",
    "        d[col[0]] = row[idx]\n",
    "    return d\n",
    " \n",
    "connection = sqlite3.connect(\"db/GDPNew.db\")\n",
    "connection.row_factory = dict_factory\n",
    " \n",
    "cursor = connection.cursor()\n",
    " \n",
    "cursor.execute(\"select Y2000, IndustryId, Description from GDP where GeoName == 'Georgia'\")\n",
    " \n",
    "# fetch all or one we'll go for all.\n",
    " \n",
    "resultss = cursor.fetchall()\n",
    " \n",
    "print(results)\n",
    " "
   ]
  },
  {
   "cell_type": "code",
   "execution_count": 21,
   "metadata": {},
   "outputs": [
    {
     "ename": "TypeError",
     "evalue": "tuple indices must be integers or slices, not str",
     "output_type": "error",
     "traceback": [
      "\u001b[0;31m---------------------------------------------------------------------------\u001b[0m",
      "\u001b[0;31mTypeError\u001b[0m                                 Traceback (most recent call last)",
      "\u001b[0;32m<ipython-input-21-7e3adb3e506a>\u001b[0m in \u001b[0;36m<module>\u001b[0;34m\u001b[0m\n\u001b[0;32m----> 1\u001b[0;31m \u001b[0;34m[\u001b[0m\u001b[0mitem\u001b[0m \u001b[0;32mfor\u001b[0m \u001b[0mitem\u001b[0m \u001b[0;32min\u001b[0m \u001b[0mresults\u001b[0m \u001b[0;32mif\u001b[0m \u001b[0mitem\u001b[0m\u001b[0;34m[\u001b[0m\u001b[0;34m\"GeoName\"\u001b[0m\u001b[0;34m]\u001b[0m \u001b[0;34m==\u001b[0m \u001b[0;34m\"Alabama\"\u001b[0m\u001b[0;34m]\u001b[0m\u001b[0;34m\u001b[0m\u001b[0;34m\u001b[0m\u001b[0m\n\u001b[0m",
      "\u001b[0;32m<ipython-input-21-7e3adb3e506a>\u001b[0m in \u001b[0;36m<listcomp>\u001b[0;34m(.0)\u001b[0m\n\u001b[0;32m----> 1\u001b[0;31m \u001b[0;34m[\u001b[0m\u001b[0mitem\u001b[0m \u001b[0;32mfor\u001b[0m \u001b[0mitem\u001b[0m \u001b[0;32min\u001b[0m \u001b[0mresults\u001b[0m \u001b[0;32mif\u001b[0m \u001b[0mitem\u001b[0m\u001b[0;34m[\u001b[0m\u001b[0;34m\"GeoName\"\u001b[0m\u001b[0;34m]\u001b[0m \u001b[0;34m==\u001b[0m \u001b[0;34m\"Alabama\"\u001b[0m\u001b[0;34m]\u001b[0m\u001b[0;34m\u001b[0m\u001b[0;34m\u001b[0m\u001b[0m\n\u001b[0m",
      "\u001b[0;31mTypeError\u001b[0m: tuple indices must be integers or slices, not str"
     ]
    }
   ],
   "source": [
    "[item for item in results if item[\"GeoName\"] == \"Alabama\"]"
   ]
  },
  {
   "cell_type": "code",
   "execution_count": 22,
   "metadata": {},
   "outputs": [
    {
     "name": "stdout",
     "output_type": "stream",
     "text": [
      "[{'Y2008': 172686.8, 'IndustryId': 1}, {'Y2008': 143302.2, 'IndustryId': 2}, {'Y2008': 1894.9, 'IndustryId': 3}, {'Y2008': 1389.9, 'IndustryId': 4}, {'Y2008': 505.0, 'IndustryId': 5}, {'Y2008': 3849.0, 'IndustryId': 6}, {'Y2008': 2132.7, 'IndustryId': 7}, {'Y2008': 1589.2, 'IndustryId': 8}, {'Y2008': 127.1, 'IndustryId': 9}, {'Y2008': 4719.4, 'IndustryId': 10}, {'Y2008': 8367.9, 'IndustryId': 11}, {'Y2008': 29004.3, 'IndustryId': 12}, {'Y2008': 18566.1, 'IndustryId': 13}, {'Y2008': 792.0, 'IndustryId': 14}, {'Y2008': 827.9, 'IndustryId': 15}, {'Y2008': 4753.8, 'IndustryId': 16}, {'Y2008': 2452.6, 'IndustryId': 17}, {'Y2008': 1055.2, 'IndustryId': 18}, {'Y2008': 1174.6, 'IndustryId': 19}, {'Y2008': 636.4, 'IndustryId': 20}, {'Y2008': 3181.1, 'IndustryId': 21}, {'Y2008': 2516.2, 'IndustryId': 22}, {'Y2008': 679.4, 'IndustryId': 23}, {'Y2008': 496.9, 'IndustryId': 24}, {'Y2008': 10438.2, 'IndustryId': 25}, {'Y2008': 2107.5, 'IndustryId': 26}, {'Y2008': 650.8, 'IndustryId': 27}, {'Y2008': 410.6, 'IndustryId': 28}, {'Y2008': 2618.6, 'IndustryId': 29}, {'Y2008': 272.1, 'IndustryId': 30}, {'Y2008': 1084.7, 'IndustryId': 31}, {'Y2008': 2336.7, 'IndustryId': 32}, {'Y2008': 957.1, 'IndustryId': 33}, {'Y2008': 10379.3, 'IndustryId': 34}, {'Y2008': 12139.8, 'IndustryId': 35}, {'Y2008': 4776.3, 'IndustryId': 36}, {'Y2008': 123.6, 'IndustryId': 37}, {'Y2008': 628.1, 'IndustryId': 38}, {'Y2008': 393.2, 'IndustryId': 39}, {'Y2008': 2015.0, 'IndustryId': 40}, {'Y2008': 92.8, 'IndustryId': 41}, {'Y2008': 148.1, 'IndustryId': 42}, {'Y2008': 912.8, 'IndustryId': 43}, {'Y2008': 462.8, 'IndustryId': 44}, {'Y2008': 5053.2, 'IndustryId': 45}, {'Y2008': 1143.2, 'IndustryId': 46}, {'Y2008': 91.9, 'IndustryId': 47}, {'Y2008': 3536.0, 'IndustryId': 48}, {'Y2008': 282.1, 'IndustryId': 49}, {'Y2008': 25197.2, 'IndustryId': 50}, {'Y2008': 7891.3, 'IndustryId': 51}, {'Y2008': 4187.2, 'IndustryId': 52}, {'Y2008': 280.1, 'IndustryId': 53}, {'Y2008': 3321.2, 'IndustryId': 54}, {'Y2008': 102.8, 'IndustryId': 55}, {'Y2008': 17305.9, 'IndustryId': 56}, {'Y2008': 15315.9, 'IndustryId': 57}, {'Y2008': 1990.0, 'IndustryId': 58}, {'Y2008': 16213.2, 'IndustryId': 59}, {'Y2008': 10544.3, 'IndustryId': 60}, {'Y2008': 2215.0, 'IndustryId': 61}, {'Y2008': 2098.8, 'IndustryId': 62}, {'Y2008': 6230.5, 'IndustryId': 63}, {'Y2008': 1408.3, 'IndustryId': 64}, {'Y2008': 4260.6, 'IndustryId': 65}, {'Y2008': 3868.6, 'IndustryId': 66}, {'Y2008': 392.0, 'IndustryId': 67}, {'Y2008': 12627.6, 'IndustryId': 68}, {'Y2008': 942.7, 'IndustryId': 69}, {'Y2008': 11684.9, 'IndustryId': 70}, {'Y2008': 6863.3, 'IndustryId': 71}, {'Y2008': 2846.3, 'IndustryId': 72}, {'Y2008': 1319.1, 'IndustryId': 73}, {'Y2008': 656.2, 'IndustryId': 74}, {'Y2008': 4518.2, 'IndustryId': 75}, {'Y2008': 596.4, 'IndustryId': 76}, {'Y2008': 225.3, 'IndustryId': 77}, {'Y2008': 371.2, 'IndustryId': 78}, {'Y2008': 3921.7, 'IndustryId': 79}, {'Y2008': 658.4, 'IndustryId': 80}, {'Y2008': 3263.3, 'IndustryId': 81}, {'Y2008': 4561.9, 'IndustryId': 82}, {'Y2008': 29384.7, 'IndustryId': 83}, {'Y2008': 6660.1, 'IndustryId': 84}, {'Y2008': 3864.1, 'IndustryId': 85}, {'Y2008': 18860.5, 'IndustryId': 86}, {'Y2008': 5744.0, 'IndustryId': 87}, {'Y2008': 22519.1, 'IndustryId': 88}, {'Y2008': 9495.7, 'IndustryId': 89}, {'Y2008': 43116.2, 'IndustryId': 90}, {'Y2008': 100185.9, 'IndustryId': 91}]\n"
     ]
    }
   ],
   "source": [
    "import sqlite3\n",
    " \n",
    "def dict_factory(cursor, row):\n",
    "    d = {}\n",
    "    for idx, col in enumerate(cursor.description):\n",
    "        d[col[0]] = row[idx]\n",
    "    return d\n",
    "\n",
    "\n",
    "connection = sqlite3.connect(\"db/GDPNew.db\")\n",
    "connection.row_factory = dict_factory\n",
    " \n",
    "cursor = connection.cursor()\n",
    "\n",
    "state = 'Alabama'\n",
    "industryID = 6\n",
    "\n",
    "query = f\"select Y2008, IndustryId from GDP where GeoName = '{state}'\"\n",
    "\n",
    "cursor.execute(query)\n",
    " \n",
    "# fetch all or one we'll go for all.\n",
    " \n",
    "results = cursor.fetchall()\n",
    " \n",
    "print(results)"
   ]
  },
  {
   "cell_type": "code",
   "execution_count": 36,
   "metadata": {},
   "outputs": [
    {
     "name": "stdout",
     "output_type": "stream",
     "text": [
      "[{'GeoName': 'Alabama', 'Region': '5', 'IndustryId': 6, 'Description': '  Mining, quarrying, and oil and gas extraction', 'Y1997': 1284.6, 'Y1998': 1315.2, 'Y1999': 1182.9, 'Y2000': 1266.4, 'Y2001': 1379.7, 'Y2002': 1207.9, 'Y2003': 1588.2, 'Y2004': 1960.5, 'Y2005': 2747.0, 'Y2006': 2895.3, 'Y2007': 3432.0, 'Y2008': 3849.0, 'Y2009': 2819.8, 'Y2010': 3034.5, 'Y2011': 2949.5, 'Y2012': 2891.8, 'Y2013': 2760.6, 'Y2014': 2524.9, 'Y2015': 2417.1, 'Y2016': 1724.9, 'Y2017': 2783.9}]\n"
     ]
    }
   ],
   "source": [
    "import sqlite3\n",
    " \n",
    "def dict_factory(cursor, row):\n",
    "    d = {}\n",
    "    for idx, col in enumerate(cursor.description):\n",
    "        d[col[0]] = row[idx]\n",
    "    return d\n",
    "\n",
    "\n",
    "connection = sqlite3.connect(\"db/GDPNew.db\")\n",
    "connection.row_factory = dict_factory\n",
    " \n",
    "cursor = connection.cursor()\n",
    "\n",
    "state = 'Alabama'\n",
    "industryId = 6\n",
    "\n",
    "query = f\"select * from GDP where GeoName == '{state}' and IndustryId == '{industryId}'\"\n",
    "\n",
    "cursor.execute(query)\n",
    " \n",
    "# fetch all or one we'll go for all.\n",
    " \n",
    "results = cursor.fetchall()\n",
    " \n",
    "print(results)"
   ]
  },
  {
   "cell_type": "code",
   "execution_count": 23,
   "metadata": {},
   "outputs": [],
   "source": [
    "query = \"select Y2008, IndustryId from GDP where GeoName == 'f{state}'\""
   ]
  },
  {
   "cell_type": "code",
   "execution_count": 24,
   "metadata": {},
   "outputs": [
    {
     "name": "stdout",
     "output_type": "stream",
     "text": [
      "select Y2008, IndustryId from GDP where GeoName == 'f{state}'\n"
     ]
    }
   ],
   "source": [
    "print(query)"
   ]
  },
  {
   "cell_type": "code",
   "execution_count": 25,
   "metadata": {},
   "outputs": [],
   "source": [
    "states = session.query(Gdp.GeoName).distinct()"
   ]
  },
  {
   "cell_type": "code",
   "execution_count": 26,
   "metadata": {},
   "outputs": [
    {
     "data": {
      "text/plain": [
       "<sqlalchemy.orm.query.Query at 0x1220eea90>"
      ]
     },
     "execution_count": 26,
     "metadata": {},
     "output_type": "execute_result"
    }
   ],
   "source": [
    "states"
   ]
  },
  {
   "cell_type": "code",
   "execution_count": 27,
   "metadata": {},
   "outputs": [
    {
     "data": {
      "text/plain": [
       "[('Alabama'),\n",
       " ('Alaska'),\n",
       " ('Arizona'),\n",
       " ('Arkansas'),\n",
       " ('California'),\n",
       " ('Colorado'),\n",
       " ('Connecticut'),\n",
       " ('Delaware'),\n",
       " ('District of Columbia'),\n",
       " ('Far West'),\n",
       " ('Florida'),\n",
       " ('GeoName'),\n",
       " ('Georgia'),\n",
       " ('Great Lakes'),\n",
       " ('Hawaii'),\n",
       " ('Idaho'),\n",
       " ('Illinois'),\n",
       " ('Indiana'),\n",
       " ('Iowa'),\n",
       " ('Kansas'),\n",
       " ('Kentucky'),\n",
       " ('Louisiana'),\n",
       " ('Maine'),\n",
       " ('Maryland'),\n",
       " ('Massachusetts'),\n",
       " ('Michigan'),\n",
       " ('Mideast'),\n",
       " ('Minnesota'),\n",
       " ('Mississippi'),\n",
       " ('Missouri'),\n",
       " ('Montana'),\n",
       " ('Nebraska'),\n",
       " ('Nevada'),\n",
       " ('New England'),\n",
       " ('New Hampshire'),\n",
       " ('New Jersey'),\n",
       " ('New Mexico'),\n",
       " ('New York'),\n",
       " ('North Carolina'),\n",
       " ('North Dakota'),\n",
       " ('Ohio'),\n",
       " ('Oklahoma'),\n",
       " ('Oregon'),\n",
       " ('Pennsylvania'),\n",
       " ('Plains'),\n",
       " ('Rhode Island'),\n",
       " ('Rocky Mountain'),\n",
       " ('South Carolina'),\n",
       " ('South Dakota'),\n",
       " ('Southeast'),\n",
       " ('Southwest'),\n",
       " ('Tennessee'),\n",
       " ('Texas'),\n",
       " ('United States *'),\n",
       " ('Utah'),\n",
       " ('Vermont'),\n",
       " ('Virginia'),\n",
       " ('Washington'),\n",
       " ('West Virginia'),\n",
       " ('Wisconsin'),\n",
       " ('Wyoming')]"
      ]
     },
     "execution_count": 27,
     "metadata": {},
     "output_type": "execute_result"
    }
   ],
   "source": [
    "list(states)"
   ]
  },
  {
   "cell_type": "code",
   "execution_count": 28,
   "metadata": {},
   "outputs": [
    {
     "name": "stderr",
     "output_type": "stream",
     "text": [
      "/Users/deniscohen/anaconda3/lib/python3.7/site-packages/flask_sqlalchemy/__init__.py:835: FSADeprecationWarning: SQLALCHEMY_TRACK_MODIFICATIONS adds significant overhead and will be disabled by default in the future.  Set it to True or False to suppress this warning.\n",
      "  'SQLALCHEMY_TRACK_MODIFICATIONS adds significant overhead and '\n"
     ]
    }
   ],
   "source": [
    "app = Flask(__name__)\n",
    "app.config[\"SQLALCHEMY_DATABASE_URI\"] = \"sqlite:///db/GDPNew.db\"\n",
    "db = SQLAlchemy(app)"
   ]
  },
  {
   "cell_type": "code",
   "execution_count": 29,
   "metadata": {},
   "outputs": [],
   "source": [
    "stmt = db.session.query(Gdp).statement\n",
    "df = pd.read_sql_query(stmt, db.session.bind)"
   ]
  },
  {
   "cell_type": "code",
   "execution_count": 30,
   "metadata": {},
   "outputs": [
    {
     "data": {
      "text/plain": [
       "array(['GeoName', 'United States *', 'Alabama', 'Alaska', 'Arizona',\n",
       "       'Arkansas', 'California', 'Colorado', 'Connecticut', 'Delaware',\n",
       "       'District of Columbia', 'Florida', 'Georgia', 'Hawaii', 'Idaho',\n",
       "       'Illinois', 'Indiana', 'Iowa', 'Kansas', 'Kentucky', 'Louisiana',\n",
       "       'Maine', 'Maryland', 'Massachusetts', 'Michigan', 'Minnesota',\n",
       "       'Mississippi', 'Missouri', 'Montana', 'Nebraska', 'Nevada',\n",
       "       'New Hampshire', 'New Jersey', 'New Mexico', 'New York',\n",
       "       'North Carolina', 'North Dakota', 'Ohio', 'Oklahoma', 'Oregon',\n",
       "       'Pennsylvania', 'Rhode Island', 'South Carolina', 'South Dakota',\n",
       "       'Tennessee', 'Texas', 'Utah', 'Vermont', 'Virginia', 'Washington',\n",
       "       'West Virginia', 'Wisconsin', 'Wyoming', 'New England', 'Mideast',\n",
       "       'Great Lakes', 'Plains', 'Southeast', 'Southwest',\n",
       "       'Rocky Mountain', 'Far West'], dtype=object)"
      ]
     },
     "execution_count": 30,
     "metadata": {},
     "output_type": "execute_result"
    }
   ],
   "source": [
    "df.GeoName.unique()"
   ]
  },
  {
   "cell_type": "code",
   "execution_count": 31,
   "metadata": {},
   "outputs": [
    {
     "ename": "SyntaxError",
     "evalue": "invalid syntax (<ipython-input-31-02671123186c>, line 1)",
     "output_type": "error",
     "traceback": [
      "\u001b[0;36m  File \u001b[0;32m\"<ipython-input-31-02671123186c>\"\u001b[0;36m, line \u001b[0;32m1\u001b[0m\n\u001b[0;31m    df =\u001b[0m\n\u001b[0m         ^\u001b[0m\n\u001b[0;31mSyntaxError\u001b[0m\u001b[0;31m:\u001b[0m invalid syntax\n"
     ]
    }
   ],
   "source": [
    "df = "
   ]
  },
  {
   "cell_type": "code",
   "execution_count": 32,
   "metadata": {},
   "outputs": [
    {
     "data": {
      "text/html": [
       "<div>\n",
       "<style scoped>\n",
       "    .dataframe tbody tr th:only-of-type {\n",
       "        vertical-align: middle;\n",
       "    }\n",
       "\n",
       "    .dataframe tbody tr th {\n",
       "        vertical-align: top;\n",
       "    }\n",
       "\n",
       "    .dataframe thead th {\n",
       "        text-align: right;\n",
       "    }\n",
       "</style>\n",
       "<table border=\"1\" class=\"dataframe\">\n",
       "  <thead>\n",
       "    <tr style=\"text-align: right;\">\n",
       "      <th></th>\n",
       "      <th>Y2000</th>\n",
       "      <th>IndustryId</th>\n",
       "    </tr>\n",
       "  </thead>\n",
       "  <tbody>\n",
       "    <tr>\n",
       "      <th>0</th>\n",
       "      <td>Y2000</td>\n",
       "      <td>IndustryId</td>\n",
       "    </tr>\n",
       "    <tr>\n",
       "      <th>1</th>\n",
       "      <td>1.02523e+07</td>\n",
       "      <td>1</td>\n",
       "    </tr>\n",
       "    <tr>\n",
       "      <th>2</th>\n",
       "      <td>8.92932e+06</td>\n",
       "      <td>2</td>\n",
       "    </tr>\n",
       "    <tr>\n",
       "      <th>3</th>\n",
       "      <td>98311.7</td>\n",
       "      <td>3</td>\n",
       "    </tr>\n",
       "    <tr>\n",
       "      <th>4</th>\n",
       "      <td>76043</td>\n",
       "      <td>4</td>\n",
       "    </tr>\n",
       "    <tr>\n",
       "      <th>5</th>\n",
       "      <td>22268.7</td>\n",
       "      <td>5</td>\n",
       "    </tr>\n",
       "    <tr>\n",
       "      <th>6</th>\n",
       "      <td>110581</td>\n",
       "      <td>6</td>\n",
       "    </tr>\n",
       "    <tr>\n",
       "      <th>7</th>\n",
       "      <td>68240.3</td>\n",
       "      <td>7</td>\n",
       "    </tr>\n",
       "    <tr>\n",
       "      <th>8</th>\n",
       "      <td>28514.3</td>\n",
       "      <td>8</td>\n",
       "    </tr>\n",
       "    <tr>\n",
       "      <th>9</th>\n",
       "      <td>13826.7</td>\n",
       "      <td>9</td>\n",
       "    </tr>\n",
       "    <tr>\n",
       "      <th>10</th>\n",
       "      <td>180122</td>\n",
       "      <td>10</td>\n",
       "    </tr>\n",
       "    <tr>\n",
       "      <th>11</th>\n",
       "      <td>461341</td>\n",
       "      <td>11</td>\n",
       "    </tr>\n",
       "    <tr>\n",
       "      <th>12</th>\n",
       "      <td>1.55019e+06</td>\n",
       "      <td>12</td>\n",
       "    </tr>\n",
       "    <tr>\n",
       "      <th>13</th>\n",
       "      <td>924786</td>\n",
       "      <td>13</td>\n",
       "    </tr>\n",
       "    <tr>\n",
       "      <th>14</th>\n",
       "      <td>28307.3</td>\n",
       "      <td>14</td>\n",
       "    </tr>\n",
       "    <tr>\n",
       "      <th>15</th>\n",
       "      <td>42620</td>\n",
       "      <td>15</td>\n",
       "    </tr>\n",
       "    <tr>\n",
       "      <th>16</th>\n",
       "      <td>47035.7</td>\n",
       "      <td>16</td>\n",
       "    </tr>\n",
       "    <tr>\n",
       "      <th>17</th>\n",
       "      <td>121304</td>\n",
       "      <td>17</td>\n",
       "    </tr>\n",
       "    <tr>\n",
       "      <th>18</th>\n",
       "      <td>113079</td>\n",
       "      <td>18</td>\n",
       "    </tr>\n",
       "    <tr>\n",
       "      <th>19</th>\n",
       "      <td>225380</td>\n",
       "      <td>19</td>\n",
       "    </tr>\n",
       "    <tr>\n",
       "      <th>20</th>\n",
       "      <td>45669.9</td>\n",
       "      <td>20</td>\n",
       "    </tr>\n",
       "    <tr>\n",
       "      <th>21</th>\n",
       "      <td>137534</td>\n",
       "      <td>21</td>\n",
       "    </tr>\n",
       "    <tr>\n",
       "      <th>22</th>\n",
       "      <td>71111.7</td>\n",
       "      <td>22</td>\n",
       "    </tr>\n",
       "    <tr>\n",
       "      <th>23</th>\n",
       "      <td>33519.1</td>\n",
       "      <td>23</td>\n",
       "    </tr>\n",
       "    <tr>\n",
       "      <th>24</th>\n",
       "      <td>59225.3</td>\n",
       "      <td>24</td>\n",
       "    </tr>\n",
       "    <tr>\n",
       "      <th>25</th>\n",
       "      <td>625409</td>\n",
       "      <td>25</td>\n",
       "    </tr>\n",
       "    <tr>\n",
       "      <th>26</th>\n",
       "      <td>163231</td>\n",
       "      <td>26</td>\n",
       "    </tr>\n",
       "    <tr>\n",
       "      <th>27</th>\n",
       "      <td>27984.3</td>\n",
       "      <td>27</td>\n",
       "    </tr>\n",
       "    <tr>\n",
       "      <th>28</th>\n",
       "      <td>22155.9</td>\n",
       "      <td>28</td>\n",
       "    </tr>\n",
       "    <tr>\n",
       "      <th>29</th>\n",
       "      <td>62189.7</td>\n",
       "      <td>29</td>\n",
       "    </tr>\n",
       "    <tr>\n",
       "      <th>...</th>\n",
       "      <td>...</td>\n",
       "      <td>...</td>\n",
       "    </tr>\n",
       "    <tr>\n",
       "      <th>5435</th>\n",
       "      <td>27492.3</td>\n",
       "      <td>62</td>\n",
       "    </tr>\n",
       "    <tr>\n",
       "      <th>5436</th>\n",
       "      <td>86325.7</td>\n",
       "      <td>63</td>\n",
       "    </tr>\n",
       "    <tr>\n",
       "      <th>5437</th>\n",
       "      <td>38766.5</td>\n",
       "      <td>64</td>\n",
       "    </tr>\n",
       "    <tr>\n",
       "      <th>5438</th>\n",
       "      <td>51342.1</td>\n",
       "      <td>65</td>\n",
       "    </tr>\n",
       "    <tr>\n",
       "      <th>5439</th>\n",
       "      <td>46144.4</td>\n",
       "      <td>66</td>\n",
       "    </tr>\n",
       "    <tr>\n",
       "      <th>5440</th>\n",
       "      <td>5197.7</td>\n",
       "      <td>67</td>\n",
       "    </tr>\n",
       "    <tr>\n",
       "      <th>5441</th>\n",
       "      <td>102492</td>\n",
       "      <td>68</td>\n",
       "    </tr>\n",
       "    <tr>\n",
       "      <th>5442</th>\n",
       "      <td>12642.1</td>\n",
       "      <td>69</td>\n",
       "    </tr>\n",
       "    <tr>\n",
       "      <th>5443</th>\n",
       "      <td>89850.4</td>\n",
       "      <td>70</td>\n",
       "    </tr>\n",
       "    <tr>\n",
       "      <th>5444</th>\n",
       "      <td>47772</td>\n",
       "      <td>71</td>\n",
       "    </tr>\n",
       "    <tr>\n",
       "      <th>5445</th>\n",
       "      <td>24681.3</td>\n",
       "      <td>72</td>\n",
       "    </tr>\n",
       "    <tr>\n",
       "      <th>5446</th>\n",
       "      <td>8435.9</td>\n",
       "      <td>73</td>\n",
       "    </tr>\n",
       "    <tr>\n",
       "      <th>5447</th>\n",
       "      <td>8961.2</td>\n",
       "      <td>74</td>\n",
       "    </tr>\n",
       "    <tr>\n",
       "      <th>5448</th>\n",
       "      <td>88154.5</td>\n",
       "      <td>75</td>\n",
       "    </tr>\n",
       "    <tr>\n",
       "      <th>5449</th>\n",
       "      <td>24305.4</td>\n",
       "      <td>76</td>\n",
       "    </tr>\n",
       "    <tr>\n",
       "      <th>5450</th>\n",
       "      <td>14346.2</td>\n",
       "      <td>77</td>\n",
       "    </tr>\n",
       "    <tr>\n",
       "      <th>5451</th>\n",
       "      <td>9959.2</td>\n",
       "      <td>78</td>\n",
       "    </tr>\n",
       "    <tr>\n",
       "      <th>5452</th>\n",
       "      <td>63849.1</td>\n",
       "      <td>79</td>\n",
       "    </tr>\n",
       "    <tr>\n",
       "      <th>5453</th>\n",
       "      <td>26086.7</td>\n",
       "      <td>80</td>\n",
       "    </tr>\n",
       "    <tr>\n",
       "      <th>5454</th>\n",
       "      <td>37762.4</td>\n",
       "      <td>81</td>\n",
       "    </tr>\n",
       "    <tr>\n",
       "      <th>5455</th>\n",
       "      <td>51926.1</td>\n",
       "      <td>82</td>\n",
       "    </tr>\n",
       "    <tr>\n",
       "      <th>5456</th>\n",
       "      <td>234423</td>\n",
       "      <td>83</td>\n",
       "    </tr>\n",
       "    <tr>\n",
       "      <th>5457</th>\n",
       "      <td>40115.1</td>\n",
       "      <td>84</td>\n",
       "    </tr>\n",
       "    <tr>\n",
       "      <th>5458</th>\n",
       "      <td>24899.6</td>\n",
       "      <td>85</td>\n",
       "    </tr>\n",
       "    <tr>\n",
       "      <th>5459</th>\n",
       "      <td>169408</td>\n",
       "      <td>86</td>\n",
       "    </tr>\n",
       "    <tr>\n",
       "      <th>5460</th>\n",
       "      <td>38967.1</td>\n",
       "      <td>87</td>\n",
       "    </tr>\n",
       "    <tr>\n",
       "      <th>5461</th>\n",
       "      <td>234863</td>\n",
       "      <td>88</td>\n",
       "    </tr>\n",
       "    <tr>\n",
       "      <th>5462</th>\n",
       "      <td>77313.9</td>\n",
       "      <td>89</td>\n",
       "    </tr>\n",
       "    <tr>\n",
       "      <th>5463</th>\n",
       "      <td>387331</td>\n",
       "      <td>90</td>\n",
       "    </tr>\n",
       "    <tr>\n",
       "      <th>5464</th>\n",
       "      <td>1.2448e+06</td>\n",
       "      <td>91</td>\n",
       "    </tr>\n",
       "  </tbody>\n",
       "</table>\n",
       "<p>5465 rows × 2 columns</p>\n",
       "</div>"
      ],
      "text/plain": [
       "            Y2000  IndustryId\n",
       "0           Y2000  IndustryId\n",
       "1     1.02523e+07           1\n",
       "2     8.92932e+06           2\n",
       "3         98311.7           3\n",
       "4           76043           4\n",
       "5         22268.7           5\n",
       "6          110581           6\n",
       "7         68240.3           7\n",
       "8         28514.3           8\n",
       "9         13826.7           9\n",
       "10         180122          10\n",
       "11         461341          11\n",
       "12    1.55019e+06          12\n",
       "13         924786          13\n",
       "14        28307.3          14\n",
       "15          42620          15\n",
       "16        47035.7          16\n",
       "17         121304          17\n",
       "18         113079          18\n",
       "19         225380          19\n",
       "20        45669.9          20\n",
       "21         137534          21\n",
       "22        71111.7          22\n",
       "23        33519.1          23\n",
       "24        59225.3          24\n",
       "25         625409          25\n",
       "26         163231          26\n",
       "27        27984.3          27\n",
       "28        22155.9          28\n",
       "29        62189.7          29\n",
       "...           ...         ...\n",
       "5435      27492.3          62\n",
       "5436      86325.7          63\n",
       "5437      38766.5          64\n",
       "5438      51342.1          65\n",
       "5439      46144.4          66\n",
       "5440       5197.7          67\n",
       "5441       102492          68\n",
       "5442      12642.1          69\n",
       "5443      89850.4          70\n",
       "5444        47772          71\n",
       "5445      24681.3          72\n",
       "5446       8435.9          73\n",
       "5447       8961.2          74\n",
       "5448      88154.5          75\n",
       "5449      24305.4          76\n",
       "5450      14346.2          77\n",
       "5451       9959.2          78\n",
       "5452      63849.1          79\n",
       "5453      26086.7          80\n",
       "5454      37762.4          81\n",
       "5455      51926.1          82\n",
       "5456       234423          83\n",
       "5457      40115.1          84\n",
       "5458      24899.6          85\n",
       "5459       169408          86\n",
       "5460      38967.1          87\n",
       "5461       234863          88\n",
       "5462      77313.9          89\n",
       "5463       387331          90\n",
       "5464   1.2448e+06          91\n",
       "\n",
       "[5465 rows x 2 columns]"
      ]
     },
     "execution_count": 32,
     "metadata": {},
     "output_type": "execute_result"
    }
   ],
   "source": [
    "df.loc[:,[\"Y2000\", \"IndustryId\"]]"
   ]
  },
  {
   "cell_type": "code",
   "execution_count": null,
   "metadata": {},
   "outputs": [],
   "source": []
  },
  {
   "cell_type": "code",
   "execution_count": null,
   "metadata": {},
   "outputs": [],
   "source": []
  }
 ],
 "metadata": {
  "kernelspec": {
   "display_name": "Python 3",
   "language": "python",
   "name": "python3"
  },
  "language_info": {
   "codemirror_mode": {
    "name": "ipython",
    "version": 3
   },
   "file_extension": ".py",
   "mimetype": "text/x-python",
   "name": "python",
   "nbconvert_exporter": "python",
   "pygments_lexer": "ipython3",
   "version": "3.7.3"
  },
  "varInspector": {
   "cols": {
    "lenName": 16,
    "lenType": 16,
    "lenVar": 40
   },
   "kernels_config": {
    "python": {
     "delete_cmd_postfix": "",
     "delete_cmd_prefix": "del ",
     "library": "var_list.py",
     "varRefreshCmd": "print(var_dic_list())"
    },
    "r": {
     "delete_cmd_postfix": ") ",
     "delete_cmd_prefix": "rm(",
     "library": "var_list.r",
     "varRefreshCmd": "cat(var_dic_list()) "
    }
   },
   "types_to_exclude": [
    "module",
    "function",
    "builtin_function_or_method",
    "instance",
    "_Feature"
   ],
   "window_display": false
  }
 },
 "nbformat": 4,
 "nbformat_minor": 2
}
